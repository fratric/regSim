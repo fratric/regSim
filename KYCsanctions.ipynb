{
  "cells": [
    {
      "cell_type": "markdown",
      "metadata": {
        "id": "gkugF2QhbWE8"
      },
      "source": [
        "# RegTech Session: KYC, KYB, Sanctions, and Profiling\n",
        "\n",
        "This notebook illustrates implementation of KYC, KYB, and Sanction regulation, using risk-based approach that integrates various risk indicators. We consider three risk indicators returning values $(r_1,r_2,r_3,r_4)$. We develop $n$ tools to estimate risk based on various data sources. \n",
        "\n",
        "Data sources:\n",
        "\n",
        "- Sanction lists\n",
        "- Blockchain address black lists\n",
        "- Databases of corporate entities\n",
        "\n",
        "Tools used to estimate risk:\n",
        "\n",
        "- Private API\n",
        "- Fuzzy Matching\n",
        "- Country level risk assessment\n"
      ]
    },
    {
      "cell_type": "code",
      "execution_count": 92,
      "metadata": {
        "id": "BQ2f3cpDjOzY"
      },
      "outputs": [],
      "source": [
        "#!pip install fuzzywuzzy\n",
        "#!pip install Levenshtein \n",
        "import pandas as pd\n",
        "import urllib3\n",
        "import requests\n",
        "from fuzzywuzzy import fuzz"
      ]
    },
    {
      "cell_type": "markdown",
      "metadata": {},
      "source": [
        "Let us Consider a new client who is interested to become our customer:"
      ]
    },
    {
      "cell_type": "code",
      "execution_count": 93,
      "metadata": {},
      "outputs": [],
      "source": [
        "clientData = {\n",
        "    'name': 'Sukanto Tanoto',\n",
        "    'residence': 'Indonesia',\n",
        "    'blockchain_address': \"0x104865E1987F25df47554F99ee304038eaae8888\",\n",
        "    'chain': \"ETH-SEPOLIA\"\n",
        "}"
      ]
    },
    {
      "cell_type": "markdown",
      "metadata": {},
      "source": [
        "## Risk Indicator 1: Private API for Blockchain address screening \n",
        "\n",
        "We will use [Circle API](https://api.circle.com) maintained by [Circle](https://www.circle.com/) to showcase development of a blockchain address screening tool that can be used as a risk indicator."
      ]
    },
    {
      "cell_type": "code",
      "execution_count": null,
      "metadata": {},
      "outputs": [
        {
          "data": {
            "text/plain": [
              "{'data': {'result': 'DENIED',\n",
              "  'decision': {'ruleName': \"Circle's Sanctions Blocklist\",\n",
              "   'actions': ['DENY', 'FREEZE_WALLET', 'REVIEW'],\n",
              "   'reasons': [{'source': 'ADDRESS',\n",
              "     'sourceValue': '0x33314ad8Cfd12Becb448B4Aaf4d5aE4Ca87e9999',\n",
              "     'riskScore': 'BLOCKLIST',\n",
              "     'riskCategories': ['SANCTIONS'],\n",
              "     'type': 'OWNERSHIP',\n",
              "     'signalSource': None}],\n",
              "   'screeningDate': '2025-04-30T09:55:28Z'},\n",
              "  'id': 'a0eebc99-9c0b-4ef8-bb6d-6bb9bd380a11',\n",
              "  'address': '0x33314ad8Cfd12Becb448B4Aaf4d5aE4Ca87e9999',\n",
              "  'chain': 'ETH-SEPOLIA',\n",
              "  'details': [],\n",
              "  'alertId': '664a53be-d225-4c6c-9ae2-0e07383e356d'}}"
            ]
          },
          "execution_count": 94,
          "metadata": {},
          "output_type": "execute_result"
        }
      ],
      "source": [
        "def check_blockchain_address(address, chain):\n",
        "    url = \"https://api.circle.com/v1/w3s/compliance/screening/addresses\"\n",
        "    headers = {\n",
        "        \"Content-Type\": \"application/json\", \n",
        "        'Authorization': 'Bearer '\n",
        "    }\n",
        "\n",
        "    payload = {\n",
        "        \"idempotencyKey\": \"a0eebc99-9c0b-4ef8-bb6d-6bb9bd380a11\",\n",
        "        \"address\": address, #\"0x104865E1987F25df47554F99ee304038eaae8888\", #\"0x33314ad8Cfd12Becb448B4Aaf4d5aE4Ca87e9999\",\n",
        "        \"chain\": chain #\"ETH-SEPOLIA\"\n",
        "    }\n",
        "    response = requests.post(url, json=payload, headers=headers)\n",
        "    return response\n",
        "        \n",
        "response = check_blockchain_address(clientData['blockchain_address'], clientData['chain'])\n",
        "response.json()"
      ]
    },
    {
      "cell_type": "code",
      "execution_count": 95,
      "metadata": {},
      "outputs": [
        {
          "data": {
            "text/plain": [
              "1.0"
            ]
          },
          "execution_count": 95,
          "metadata": {},
          "output_type": "execute_result"
        }
      ],
      "source": [
        "def assign_score_to_circle_response(response):\n",
        "    response_data = response.json()['data']\n",
        "    if 'decision' in response_data:\n",
        "        if 'reasons' in response_data['decision']:\n",
        "            riskScores = []\n",
        "            for reason in response_data['decision']['reasons']:\n",
        "                if 'riskScore' in reason:\n",
        "                    riskScore = reason['riskScore']\n",
        "                    if riskScore == 'BLOCKLIST' or riskScore == 'SEVERE':\n",
        "                        riskScores.append(1.0)\n",
        "                    elif riskScore == 'high':\n",
        "                        riskScores(0.8)\n",
        "    if len(riskScores) > 0:\n",
        "        return max(riskScores)\n",
        "    return 0.0\n",
        "\n",
        "circle_response_score = assign_score_to_circle_response(response)\n",
        "circle_response_score"
      ]
    },
    {
      "cell_type": "markdown",
      "metadata": {
        "id": "wDerh8a2HAbr"
      },
      "source": [
        "## Risk Indicator 2: Sanction lists screening\n",
        "\n",
        "\n",
        "### Relevant sources of sanction lists\n",
        "\n",
        "* [Office of Foreign Assets Control (OFAC)](https://sanctionssearch.ofac.treas.gov/Details.aspx?id=13087)\n",
        "* [EU sanction map](https://www.sanctionsmap.eu)\n",
        "* [UK sanction list](https://www.gov.uk/government/publications/the-uk-sanctions-list)\n",
        "* private sources, e.g., [www.opensanctions.org](https://www.opensanctions.org/)\n",
        "\n",
        "Let us use one of these sources to download a list of sanctioned entities.\n",
        "\n",
        "[See names.txt of this link](https://www.opensanctions.org/datasets/default/)"
      ]
    },
    {
      "cell_type": "code",
      "execution_count": 96,
      "metadata": {},
      "outputs": [],
      "source": [
        "target_url = 'https://data.opensanctions.org/datasets/20250130/default/names.txt?v=20250130065302-gpf'\n",
        "\n",
        "http = urllib3.PoolManager()\n",
        "response = http.request('GET', target_url)\n",
        "lines = response.data.decode('utf-8')\n",
        "lines = lines.split('\\n')"
      ]
    },
    {
      "cell_type": "markdown",
      "metadata": {
        "id": "iyjI5kPavGiO"
      },
      "source": [
        "### Identity matching software"
      ]
    },
    {
      "cell_type": "markdown",
      "metadata": {},
      "source": [
        "- **Levenshtein Distance:** This algorithm measures the minimum number of single-character edits (insertions, deletions, or substitutions) required to transform one string into another.\n",
        "\n",
        "- **Token Sort Ratio** is a string similarity metric that compares two texts by first splitting them into individual words (tokens), sorting these tokens alphabetically, and then recombining them into new strings. The similarity is then calculated using a standard ratio method, such as Levenshtein distance, on these sorted strings. This approach makes the metric insensitive to word order, so strings with the same words in different orders will score highly"
      ]
    },
    {
      "cell_type": "code",
      "execution_count": 97,
      "metadata": {
        "id": "NW4jJcE_HAbw"
      },
      "outputs": [],
      "source": [
        "def check_name(name, risk_threshold = 85):\n",
        "  suspected_entities = []\n",
        "\n",
        "  if name in lines:\n",
        "    return [(name, 100, 'is in the list')]\n",
        "  else:\n",
        "    levenstein_ratio = partial_ratio = token_sort_ratio = 0.0\n",
        "    for line in lines:\n",
        "\n",
        "      levenstein_ratio = fuzz.ratio(name, line)\n",
        "      if levenstein_ratio > risk_threshold:\n",
        "        suspected_entities.append((line,levenstein_ratio,'lev-ratio'))\n",
        "\n",
        "      token_sort_ratio = fuzz.token_sort_ratio(name, line, full_process=False)\n",
        "      if token_sort_ratio > risk_threshold:\n",
        "        suspected_entities.append((line,token_sort_ratio,'tok-ratio'))\n",
        "\n",
        "    return suspected_entities"
      ]
    },
    {
      "cell_type": "code",
      "execution_count": 5,
      "metadata": {
        "colab": {
          "base_uri": "https://localhost:8080/"
        },
        "id": "Ny30-WjWHAbw",
        "outputId": "cb6132c6-126c-445d-ad52-8e3c594f48a3"
      },
      "outputs": [
        {
          "data": {
            "text/plain": [
              "[('Jong Man Kim', 87, 'tok-ratio'),\n",
              " ('Kim Jong Man', 87, 'lev-ratio'),\n",
              " ('Kim Jong Man', 87, 'tok-ratio'),\n",
              " ('Kim Jong Eun', 87, 'lev-ratio'),\n",
              " ('Kim Džong Un', 87, 'lev-ratio'),\n",
              " ('Kim Džong Un', 87, 'tok-ratio'),\n",
              " ('Kim Dzong Un', 87, 'lev-ratio'),\n",
              " ('Kim Dzong Un', 87, 'tok-ratio'),\n",
              " ('Kim Yong Un', 91, 'lev-ratio'),\n",
              " ('Jong Un Kim', 100, 'tok-ratio'),\n",
              " ('Kim Jong Gun', 87, 'lev-ratio'),\n",
              " ('Kim Un Jon', 95, 'tok-ratio'),\n",
              " ('Kim Un Jong', 100, 'tok-ratio'),\n",
              " ('Kim Jung Un', 91, 'lev-ratio'),\n",
              " ('Kim Jung Un', 91, 'tok-ratio'),\n",
              " ('Un Jong Kim', 100, 'tok-ratio'),\n",
              " ('Un Gyong Kim', 87, 'tok-ratio')]"
            ]
          },
          "execution_count": 5,
          "metadata": {},
          "output_type": "execute_result"
        }
      ],
      "source": [
        "#here, enter name of your favorite dictator/terrorist/criminal\n",
        "check_name('Kim Jong Un')"
      ]
    },
    {
      "cell_type": "code",
      "execution_count": 98,
      "metadata": {
        "colab": {
          "base_uri": "https://localhost:8080/"
        },
        "id": "WoHc2XKqHAbx",
        "outputId": "05cb66ab-df26-48e6-dbe5-10aeb736d501"
      },
      "outputs": [
        {
          "data": {
            "text/plain": [
              "[]"
            ]
          },
          "execution_count": 98,
          "metadata": {},
          "output_type": "execute_result"
        }
      ],
      "source": [
        "#here, enter name of someone who is probably not a terrorist\n",
        "check_name('Peter Fratric')"
      ]
    },
    {
      "cell_type": "code",
      "execution_count": 99,
      "metadata": {
        "colab": {
          "base_uri": "https://localhost:8080/"
        },
        "id": "nZIysqq0HAbx",
        "outputId": "bb75030f-9e1c-4ce3-a082-f6052fbd2f2e"
      },
      "outputs": [
        {
          "data": {
            "text/plain": [
              "[('Peter Frick', 83, 'lev-ratio'),\n",
              " ('Peter Frick', 83, 'tok-ratio'),\n",
              " ('Peter Frølich', 77, 'lev-ratio'),\n",
              " ('Peter Frølich', 77, 'tok-ratio'),\n",
              " ('Frantisek Peter', 79, 'tok-ratio'),\n",
              " ('František Peter', 79, 'tok-ratio'),\n",
              " ('Peter Friedrich', 79, 'lev-ratio'),\n",
              " ('Peter Friedrich', 79, 'tok-ratio'),\n",
              " ('Friedrich, Peter', 76, 'tok-ratio'),\n",
              " ('Peter Frolich', 77, 'lev-ratio'),\n",
              " ('Peter Frolich', 77, 'tok-ratio'),\n",
              " ('Peter Forster', 77, 'lev-ratio'),\n",
              " ('Peter Forster', 77, 'tok-ratio'),\n",
              " ('Peter Ferraro', 77, 'lev-ratio'),\n",
              " ('Peter Ferraro', 77, 'tok-ratio'),\n",
              " ('Peter Francis', 77, 'lev-ratio'),\n",
              " ('Peter Francis', 77, 'tok-ratio'),\n",
              " ('Peter Ferrara', 77, 'lev-ratio'),\n",
              " ('Peter Ferrara', 77, 'tok-ratio'),\n",
              " ('Peter Fitzpatrick', 80, 'lev-ratio'),\n",
              " ('Peter Fitzpatrick', 80, 'tok-ratio'),\n",
              " ('Fitzpatrick, Peter', 77, 'tok-ratio'),\n",
              " ('Peter Gration', 77, 'lev-ratio'),\n",
              " ('Peter Gration', 77, 'tok-ratio')]"
            ]
          },
          "execution_count": 99,
          "metadata": {},
          "output_type": "execute_result"
        }
      ],
      "source": [
        "#decrease the risk threshold, and see you get more matches\n",
        "check_name('Peter Fratric', risk_threshold = 75)"
      ]
    },
    {
      "cell_type": "code",
      "execution_count": 100,
      "metadata": {},
      "outputs": [
        {
          "data": {
            "text/plain": [
              "[]"
            ]
          },
          "execution_count": 100,
          "metadata": {},
          "output_type": "execute_result"
        }
      ],
      "source": [
        "check_name(clientData['name'])"
      ]
    },
    {
      "cell_type": "markdown",
      "metadata": {},
      "source": [
        "## Risk Indicator 3: Intermediaries and ultimate beneficiaries \n",
        "\n",
        "Certain individuals can have complex links to various companies or off-shore trusts. This means that although an entity might not be on any sanction lists, they still might play a role as an intermediary or beneficiary as part of a structure where sanctioned companies are present. This indicates that a higher risk value should be assigned.\n",
        "\n",
        "\n",
        "### Relevant Data\n",
        "\n",
        "- [https://opencorporates.com](https://opencorporates.com) collects and updates information about the ownership structure of companies.\n",
        "- database of The International Consortium of Investigative Journalists that is freely accessible at [https://offshoreleaks.icij.org/](https://offshoreleaks.icij.org/pages/database)"
      ]
    },
    {
      "cell_type": "markdown",
      "metadata": {},
      "source": [
        "According to [https://offshoreleaks.icij.org/nodes/168118](https://offshoreleaks.icij.org/nodes/168118) Mr. Sukanto Tanoto is a beneficial owner of Pec-Tech Limited"
      ]
    },
    {
      "cell_type": "code",
      "execution_count": 54,
      "metadata": {},
      "outputs": [
        {
          "data": {
            "text/plain": [
              "[]"
            ]
          },
          "execution_count": 54,
          "metadata": {},
          "output_type": "execute_result"
        }
      ],
      "source": [
        "check_name(\"Pec-Tech Limited\")"
      ]
    },
    {
      "cell_type": "markdown",
      "metadata": {},
      "source": [
        "Pec-Tech limited is not a sanctioned entity. However, Secorp Limited and Trustcorp Limited are related entities to Pac-Tech."
      ]
    },
    {
      "cell_type": "code",
      "execution_count": 53,
      "metadata": {},
      "outputs": [
        {
          "data": {
            "text/plain": [
              "[('Secorp Limited', 100, 'is in the list')]"
            ]
          },
          "execution_count": 53,
          "metadata": {},
          "output_type": "execute_result"
        }
      ],
      "source": [
        "check_name('Secorp Limited')"
      ]
    },
    {
      "cell_type": "code",
      "execution_count": 58,
      "metadata": {},
      "outputs": [
        {
          "data": {
            "text/plain": [
              "[('Trustcorp Limited', 100, 'is in the list')]"
            ]
          },
          "execution_count": 58,
          "metadata": {},
          "output_type": "execute_result"
        }
      ],
      "source": [
        "check_name(\"Trustcorp Limited\")"
      ]
    },
    {
      "cell_type": "markdown",
      "metadata": {},
      "source": [
        "Both of which are found on the sanction list.\n",
        "\n",
        "> What risk value should we assign?\n",
        "\n",
        "> How would you design the design a risk scoring function based on the entity relationships?"
      ]
    },
    {
      "cell_type": "markdown",
      "metadata": {},
      "source": [
        "### Relevance for Secondary and Sectorial Sanctions\n",
        "\n",
        "- **Sectoral sanctions**: If a country performs acts of military aggression and is sanctioned by the international community, sanctions on individual entities might not be sufficient, because any company in the country can contribute to the military aggression. Moreover, exports from the sanctioned country of certain products can be beneficial for the world, or we simply might not want to punish groups of people who do not have any direct influence. This requires to implement sectorial sanctions.\n",
        "\n",
        "References: See https://ofac.treasury.gov/sanctions-programs-and-country-information/ukraine-russia-related-sanctions\n",
        "\n",
        "- **Secondary sanctions**: A non-sanctioned, so-called intermediate or shell, entity can be created to import dual-use goods in a 3rd country and pass it to the sanctioned country. Under secondary sanctions, you may still end up persecuted. Hence, one needs to do due diligence on supply chains and customers of your customers.\n"
      ]
    },
    {
      "cell_type": "markdown",
      "metadata": {},
      "source": [
        "## Risk Indicator 4: Country level risk indicators\n",
        "\n",
        "Certain jurisdictions might be less trustworthy regarding implementation and enforcement of regulatory standards. This means certain jurisdictions need to be assigned with a higher risk value.\n",
        "\n",
        "Reference: see e.g. [https://www.fatf-gafi.org/en/countries/black-and-grey-lists.html](https://www.fatf-gafi.org/en/countries/black-and-grey-lists.html)\n"
      ]
    },
    {
      "cell_type": "code",
      "execution_count": 101,
      "metadata": {},
      "outputs": [],
      "source": [
        "def check_country_fatf_status(country):\n",
        "    High_Risk = [\"Democratic Republic of Korea\", \"Iran\", \"Myanmar\"]\n",
        "    Increased_Monitoring = [\"Algeria\", \"Angola\", \"Bulgaria\", \"Burkina Faso\", \"Cameroon\", \"Côte d'Ivoire\", \"Croatia\", \"Democratic Republic of the Congo\", \"Haiti\", \"Kenya\", \"Lao PDR\", \"Lebanon\", \"Mali\", \"Monaco\", \"Mozambique\", \"Namibia\", \"Nepal\", \"Nigeria\", \"South Africa\", \"South Sudan\", \"Syria\", \"Tanzania\", \"Venezuela\", \"Vietnam\", \"Yemen\"]\n",
        "    if country in High_Risk:\n",
        "        return 1.0\n",
        "    elif country in Increased_Monitoring:\n",
        "        return 0.5\n",
        "    else:\n",
        "        return 0.0"
      ]
    },
    {
      "cell_type": "markdown",
      "metadata": {},
      "source": [
        "Alternatively, one can also consider different country level statistics related to corruption, arms trafficking, money laundering etc.\n",
        "\n",
        "Reference: see e.g. [https://v-dem.net/](https://v-dem.net/)\n",
        "\n",
        "We can use API of [ourworldindata.org](ourworldindata.org) to obtain the estimate of corruption index and calculate our risk score based on these values"
      ]
    },
    {
      "cell_type": "code",
      "execution_count": 102,
      "metadata": {},
      "outputs": [],
      "source": [
        "# Fetch the data.\n",
        "df = pd.read_csv(\"https://ourworldindata.org/grapher/political-corruption-index.csv?v=1&csvType=full&useColumnShortNames=true\", storage_options = {'User-Agent': 'Our World In Data data fetch/1.0'})\n",
        "#select year 2024\n",
        "df = df.loc[df['Year'] == 2024]\n",
        "# Fetch the metadata\n",
        "metadata = requests.get(\"https://ourworldindata.org/grapher/political-corruption-index.metadata.json?v=1&csvType=full&useColumnShortNames=true\").json()"
      ]
    },
    {
      "cell_type": "code",
      "execution_count": 110,
      "metadata": {},
      "outputs": [
        {
          "data": {
            "text/plain": [
              "0.031"
            ]
          },
          "execution_count": 110,
          "metadata": {},
          "output_type": "execute_result"
        }
      ],
      "source": [
        "def country_risk_from_corruption_index(df, country):\n",
        "    if country not in df['Entity'].tolist():\n",
        "        print(\"Warning: Country not found\")\n",
        "        return None\n",
        "    corruption_index = df.loc[df['Entity'] == country]['corruption_vdem__estimate_best__aggregate_method_average']\n",
        "    risk = float(corruption_index.values[0])\n",
        "    return risk\n",
        "\n",
        "country_risk_from_corruption_index(df, 'Belgium')"
      ]
    },
    {
      "cell_type": "code",
      "execution_count": 108,
      "metadata": {},
      "outputs": [
        {
          "data": {
            "text/plain": [
              "0.756"
            ]
          },
          "execution_count": 108,
          "metadata": {},
          "output_type": "execute_result"
        }
      ],
      "source": [
        "country_risk_from_corruption_index(df, clientData['residence'])"
      ]
    },
    {
      "cell_type": "markdown",
      "metadata": {},
      "source": [
        "## Reporting: Briefly on Travel Rules\n",
        "\n",
        "> Travel rules is a regulation that mandates the sharing of specific personal identifiable information (PII) between \n",
        "virtual Asset Providers (VASPs) when transferring digital assets. This regulation applies to both the originator VASP and the beneficiary VASP in any onchain transaction. **The goal is to prevent illegal activities like money laundering and terrorism financing by ensuring greater transparency in digital asset transfers.**\n",
        "\n",
        "> VASPs must exchange information such as the name, address, and account details for the originator and the beneficiary of the transaction, ensuring regulatory compliance at every step of the transaction.\n",
        "\n",
        "see Circle documentation by clicking this: [https://developers.circle.com/circle-mint/travel-rule-on-chain](https://developers.circle.com/circle-mint/travel-rule-on-chain) or by opening developers account."
      ]
    }
  ],
  "metadata": {
    "colab": {
      "provenance": [],
      "toc_visible": true
    },
    "kernelspec": {
      "display_name": "llm_env",
      "language": "python",
      "name": "python3"
    },
    "language_info": {
      "codemirror_mode": {
        "name": "ipython",
        "version": 3
      },
      "file_extension": ".py",
      "mimetype": "text/x-python",
      "name": "python",
      "nbconvert_exporter": "python",
      "pygments_lexer": "ipython3",
      "version": "3.12.8"
    }
  },
  "nbformat": 4,
  "nbformat_minor": 0
}
