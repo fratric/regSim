{
  "cells": [
    {
      "cell_type": "markdown",
      "metadata": {
        "id": "gkugF2QhbWE8"
      },
      "source": [
        "# RegTech Session: KYC and sanctions\n",
        "\n",
        "This session present an example focusing on sanctions development and their place in modern regulation industry. We cover the following topis:\n",
        "\n",
        "* KYC, and KYC intersection with sanction lists (in presentation)\n",
        "* Landscape of sanctions: individual vs. sectorial\n",
        "* Relevant databases of sanctioned entities: OFAC, etc.\n",
        "* Solution 1: Sanctions on entities \n",
        "    * Building identity matching software\n",
        "    * Decision of the intervention threshold\n",
        "    * Limitations and Challenges\n",
        "* Solution 2: Sectorial sanctions\n",
        "    * Building sector classification software\n",
        "    * Clustering\n",
        "    * ...\n",
        "\n",
        "\n"
      ]
    },
    {
      "cell_type": "code",
      "execution_count": 1,
      "metadata": {
        "id": "BQ2f3cpDjOzY"
      },
      "outputs": [],
      "source": [
        "import pandas as pd\n",
        "import matplotlib.pyplot as plt\n",
        "import random\n",
        "\n",
        "#from sklearn.cluster import KMeans\n",
        "#from sklearn.decomposition import PCA\n"
      ]
    },
    {
      "cell_type": "markdown",
      "metadata": {
        "id": "wDerh8a2HAbr"
      },
      "source": [
        "## Example 1: KYC and sanction lists\n",
        "\n",
        "### Aim and description of our exersize\n",
        "\n",
        "In this example, we download data of sactioned entities (persons, companies, organizations) and implement a simple matching function that provides string similarity scores calculated by various methods.\n",
        "\n",
        "### Relevant sources of saction lists\n",
        "\n",
        "* [Office of Foreign Assets Control (OFAC)](https://sanctionssearch.ofac.treas.gov/Details.aspx?id=13087)\n",
        "* [EU sanction map](https://www.sanctionsmap.eu)\n",
        "* [UK sanction list](https://www.gov.uk/government/publications/the-uk-sanctions-list)\n",
        "* private sources, e.g., [www.opensanctions.org](https://www.opensanctions.org/)\n",
        "\n",
        "Let us use one of these sources to download a list of sanctioned entities.\n",
        "\n",
        "[See names.txt of this link](https://www.opensanctions.org/datasets/default/)"
      ]
    },
    {
      "cell_type": "code",
      "execution_count": 3,
      "metadata": {
        "colab": {
          "base_uri": "https://localhost:8080/"
        },
        "id": "dMlUi-SSHAbv",
        "outputId": "1c53556d-1097-4cf1-b303-dfe21a7b3597"
      },
      "outputs": [
        {
          "name": "stderr",
          "output_type": "stream",
          "text": [
            "'wget' is not recognized as an internal or external command,\n",
            "operable program or batch file.\n"
          ]
        }
      ],
      "source": [
        "! wget https://data.opensanctions.org/datasets/20250130/default/names.txt?v=20250130065302-gpf"
      ]
    },
    {
      "cell_type": "code",
      "execution_count": 16,
      "metadata": {},
      "outputs": [],
      "source": [
        "target_url = 'https://data.opensanctions.org/datasets/20250130/default/names.txt?v=20250130065302-gpf'\n"
      ]
    },
    {
      "cell_type": "code",
      "execution_count": 50,
      "metadata": {},
      "outputs": [],
      "source": [
        "import urllib3\n",
        "\n",
        "http = urllib3.PoolManager()\n",
        "response = http.request('GET', target_url)\n",
        "data = response.data.decode('utf-8')"
      ]
    },
    {
      "cell_type": "code",
      "execution_count": 53,
      "metadata": {},
      "outputs": [
        {
          "data": {
            "text/plain": [
              "str"
            ]
          },
          "execution_count": 53,
          "metadata": {},
          "output_type": "execute_result"
        }
      ],
      "source": [
        "type(data)"
      ]
    },
    {
      "cell_type": "code",
      "execution_count": 52,
      "metadata": {},
      "outputs": [
        {
          "data": {
            "text/plain": [
              "'ООО \"ЗЕЛИН'"
            ]
          },
          "execution_count": 52,
          "metadata": {},
          "output_type": "execute_result"
        }
      ],
      "source": [
        "data[:10]"
      ]
    },
    {
      "cell_type": "code",
      "execution_count": 46,
      "metadata": {},
      "outputs": [],
      "source": [
        "import urllib.request\n",
        "data = urllib.request.urlopen(target_url)"
      ]
    },
    {
      "cell_type": "code",
      "execution_count": null,
      "metadata": {},
      "outputs": [],
      "source": [
        "lines = []\n",
        "for line in data:\n",
        "    lines.append(line)"
      ]
    },
    {
      "cell_type": "code",
      "execution_count": 49,
      "metadata": {},
      "outputs": [
        {
          "data": {
            "text/plain": [
              "[b'\\xd0\\x9e\\xd0\\x9e\\xd0\\x9e \"\\xd0\\x97\\xd0\\x95\\xd0\\x9b\\xd0\\x98\\xd0\\x9d\\xd0\\xa1\\xd0\\x9a\\xd0\\x98\\xd0\\x99 \\xd0\\x93\\xd0\\xa0\\xd0\\xa3\\xd0\\x9f\\xd0\\x9f\"\\n',\n",
              " b'Tovarystvo z obmezhenoiu vidpovidalnistiu \"Zelinskyi Hrupp\"\\n',\n",
              " b'\\xd0\\xa2\\xd0\\xbe\\xd0\\xb2\\xd0\\xb0\\xd1\\x80\\xd0\\xb8\\xd1\\x81\\xd1\\x82\\xd0\\xb2\\xd0\\xbe \\xd0\\xb7 \\xd0\\xbe\\xd0\\xb1\\xd0\\xbc\\xd0\\xb5\\xd0\\xb6\\xd0\\xb5\\xd0\\xbd\\xd0\\xbe\\xd1\\x8e \\xd0\\xb2\\xd1\\x96\\xd0\\xb4\\xd0\\xbf\\xd0\\xbe\\xd0\\xb2\\xd1\\x96\\xd0\\xb4\\xd0\\xb0\\xd0\\xbb\\xd1\\x8c\\xd0\\xbd\\xd1\\x96\\xd1\\x81\\xd1\\x82\\xd1\\x8e \"\\xd0\\x97\\xd0\\xb5\\xd0\\xbb\\xd1\\x96\\xd0\\xbd\\xd1\\x81\\xd1\\x8c\\xd0\\xba\\xd0\\xb8\\xd0\\xb9 \\xd0\\x93\\xd1\\x80\\xd1\\x83\\xd0\\xbf\\xd0\\xbf\"\\n',\n",
              " b'Limited Liability Company \"Zelinsky Group\"\\n',\n",
              " b'\\xd0\\x9e\\xd0\\xb1\\xd1\\x89\\xd0\\xb5\\xd1\\x81\\xd1\\x82\\xd0\\xb2\\xd0\\xbe \\xd1\\x81 \\xd0\\xbe\\xd0\\xb3\\xd1\\x80\\xd0\\xb0\\xd0\\xbd\\xd0\\xb8\\xd1\\x87\\xd0\\xb5\\xd0\\xbd\\xd0\\xbd\\xd0\\xbe\\xd0\\xb9 \\xd0\\xbe\\xd1\\x82\\xd0\\xb2\\xd0\\xb5\\xd1\\x82\\xd1\\x81\\xd1\\x82\\xd0\\xb2\\xd0\\xb5\\xd0\\xbd\\xd0\\xbd\\xd0\\xbe\\xd1\\x81\\xd1\\x82\\xd1\\x8c\\xd1\\x8e \"\\xd0\\x97\\xd0\\xb5\\xd0\\xbb\\xd0\\xb8\\xd0\\xbd\\xd1\\x81\\xd0\\xba\\xd0\\xb8\\xd0\\xb9 \\xd0\\x93\\xd1\\x80\\xd1\\x83\\xd0\\xbf\\xd0\\xbf\"\\n',\n",
              " b'SANAVBARI NIKITENKO\\n',\n",
              " b'\\xd0\\x9e\\xd1\\x82\\xd0\\xba\\xd1\\x80\\xd1\\x8b\\xd1\\x82\\xd0\\xbe\\xd0\\xb5 \\xd0\\xb0\\xd0\\xba\\xd1\\x86\\xd0\\xb8\\xd0\\xbe\\xd0\\xbd\\xd0\\xb5\\xd1\\x80\\xd0\\xbd\\xd0\\xbe\\xd0\\xb5 \\xd0\\xbe\\xd0\\xb1\\xd1\\x89\\xd0\\xb5\\xd1\\x81\\xd1\\x82\\xd0\\xb2\\xd0\\xbe \"\\xd0\\xad\\xd0\\xbb\\xd0\\xb5\\xd0\\xba\\xd1\\x82\\xd1\\x80\\xd0\\xbe\\xd1\\x81\\xd1\\x82\\xd0\\xb0\\xd0\\xbb\\xd1\\x8c\\xd1\\x81\\xd0\\xba\\xd0\\xb8\\xd0\\xb9 \\xd1\\x85\\xd0\\xb8\\xd0\\xbc\\xd0\\xb8\\xd0\\xba\\xd0\\xbe-\\xd0\\xbc\\xd0\\xb5\\xd1\\x85\\xd0\\xb0\\xd0\\xbd\\xd0\\xb8\\xd1\\x87\\xd0\\xb5\\xd1\\x81\\xd0\\xba\\xd0\\xb8\\xd0\\xb9 \\xd0\\xb7\\xd0\\xb0\\xd0\\xb2\\xd0\\xbe\\xd0\\xb4 \\xd0\\xb8\\xd0\\xbc\\xd0\\xb5\\xd0\\xbd\\xd0\\xb8 \\xd0\\x9d.\\xd0\\x94.\\xd0\\x97\\xd0\\xb5\\xd0\\xbb\\xd0\\xb8\\xd0\\xbd\\xd1\\x81\\xd0\\xba\\xd0\\xbe\\xd0\\xb3\\xd0\\xbe\"\\n',\n",
              " b'Open Joint-Stock Company \"Elektrostal ChemicalMechanical Plant named after N.D.Zelinsky\"\\n',\n",
              " b'\\xd0\\x9e\\xd1\\x82\\xd0\\xba\\xd1\\x80\\xd1\\x8b\\xd1\\x82\\xd0\\xbe\\xd0\\xb5 \\xd0\\xb0\\xd0\\xba\\xd1\\x86\\xd0\\xb8\\xd0\\xbe\\xd0\\xbd\\xd0\\xb5\\xd1\\x80\\xd0\\xbd\\xd0\\xbe\\xd0\\xb5 \\xd0\\xbe\\xd0\\xb1\\xd1\\x89\\xd0\\xb5\\xd1\\x81\\xd1\\x82\\xd0\\xb2\\xd0\\xbe \"\\xd0\\xad\\xd0\\xbb\\xd0\\xb5\\xd0\\xba\\xd1\\x82\\xd1\\x80\\xd0\\xbe\\xd1\\x81\\xd1\\x82\\xd0\\xb0\\xd0\\xbb\\xd1\\x8c\\xd1\\x81\\xd0\\xba\\xd0\\xb8\\xd0\\xb9 \\xd1\\x85\\xd0\\xb8\\xd0\\xbc\\xd0\\xb8\\xd0\\xba\\xd0\\xbe\\xd0\\xbc\\xd0\\xb5\\xd1\\x85\\xd0\\xb0\\xd0\\xbd\\xd0\\xb8\\xd1\\x87\\xd0\\xb5\\xd1\\x81\\xd0\\xba\\xd0\\xb8\\xd0\\xb9 \\xd0\\xb7\\xd0\\xb0\\xd0\\xb2\\xd0\\xbe\\xd0\\xb4 \\xd0\\xb8\\xd0\\xbc\\xd0\\xb5\\xd0\\xbd\\xd0\\xb8 \\xd0\\x9d.\\xd0\\x94.\\xd0\\x97\\xd0\\xb5\\xd0\\xbb\\xd0\\xb8\\xd0\\xbd\\xd1\\x81\\xd0\\xba\\xd0\\xbe\\xd0\\xb3\\xd0\\xbe\"\\n',\n",
              " b'\\xd0\\x92\\xd1\\x96\\xd0\\xb4\\xd0\\xba\\xd1\\x80\\xd0\\xb8\\xd1\\x82\\xd0\\xb5 \\xd0\\xb0\\xd0\\xba\\xd1\\x86\\xd1\\x96\\xd0\\xbe\\xd0\\xbd\\xd0\\xb5\\xd1\\x80\\xd0\\xbd\\xd0\\xb5 \\xd1\\x82\\xd0\\xbe\\xd0\\xb2\\xd0\\xb0\\xd1\\x80\\xd0\\xb8\\xd1\\x81\\xd1\\x82\\xd0\\xb2\\xd0\\xbe \"\\xd0\\x95\\xd0\\xbb\\xd0\\xb5\\xd0\\xba\\xd1\\x82\\xd1\\x80\\xd0\\xbe\\xd1\\x81\\xd1\\x82\\xd0\\xb0\\xd0\\xbb\\xd1\\x8c\\xd1\\x81\\xd1\\x8c\\xd0\\xba\\xd0\\xb8\\xd0\\xb9 \\xd1\\x85\\xd1\\x96\\xd0\\xbc\\xd1\\x96\\xd0\\xba\\xd0\\xbe\\xd0\\xbc\\xd0\\xb5\\xd1\\x85\\xd0\\xb0\\xd0\\xbd\\xd1\\x96\\xd1\\x87\\xd0\\xbd\\xd0\\xb8\\xd0\\xb9 \\xd0\\xb7\\xd0\\xb0\\xd0\\xb2\\xd0\\xbe\\xd0\\xb4 \\xd1\\x96\\xd0\\xbc\\xd0\\xb5\\xd0\\xbd\\xd1\\x96 \\xd0\\x9c.\\xd0\\x94.\\xd0\\x97\\xd0\\xb5\\xd0\\xbb\\xd1\\x96\\xd0\\xbd\\xd1\\x81\\xd1\\x8c\\xd0\\xba\\xd0\\xbe\\xd0\\xb3\\xd0\\xbe\"\\n']"
            ]
          },
          "execution_count": 49,
          "metadata": {},
          "output_type": "execute_result"
        }
      ],
      "source": [
        "lines[:10]"
      ]
    },
    {
      "cell_type": "code",
      "execution_count": 45,
      "metadata": {},
      "outputs": [
        {
          "ename": "ModuleNotFoundError",
          "evalue": "No module named 'urllib2'",
          "output_type": "error",
          "traceback": [
            "\u001b[1;31m---------------------------------------------------------------------------\u001b[0m",
            "\u001b[1;31mModuleNotFoundError\u001b[0m                       Traceback (most recent call last)",
            "Cell \u001b[1;32mIn[45], line 1\u001b[0m\n\u001b[1;32m----> 1\u001b[0m \u001b[38;5;28;01mimport\u001b[39;00m\u001b[38;5;250m \u001b[39m\u001b[38;5;21;01murllib2\u001b[39;00m  \u001b[38;5;66;03m# the lib that handles the url stuff\u001b[39;00m\n\u001b[0;32m      2\u001b[0m lines \u001b[38;5;241m=\u001b[39m []\n\u001b[0;32m      4\u001b[0m data \u001b[38;5;241m=\u001b[39m urllib2\u001b[38;5;241m.\u001b[39murlopen(target_url) \u001b[38;5;66;03m# it's a file like object and works just like a file\u001b[39;00m\n",
            "\u001b[1;31mModuleNotFoundError\u001b[0m: No module named 'urllib2'"
          ]
        }
      ],
      "source": [
        "import urllib2  # the lib that handles the url stuff\n",
        "lines = []\n",
        "\n",
        "data = urllib2.urlopen(target_url) # it's a file like object and works just like a file\n",
        "for line in data: # files are iterable\n",
        "    lines.append(line)"
      ]
    },
    {
      "cell_type": "code",
      "execution_count": null,
      "metadata": {},
      "outputs": [],
      "source": [
        "import requests\n",
        "response = requests.get(target_url, )\n",
        "data = response.text\n",
        "lines = []\n",
        "for i, line in enumerate(data.split('\\n')):\n",
        "    #print(line)\n",
        "    lines.append(line)\n",
        "    "
      ]
    },
    {
      "cell_type": "code",
      "execution_count": 37,
      "metadata": {},
      "outputs": [
        {
          "data": {
            "text/plain": [
              "['Ð\\x9eÐ\\x9eÐ\\x9e \"Ð\\x97Ð\\x95Ð\\x9bÐ\\x98Ð\\x9dÐ¡Ð\\x9aÐ\\x98Ð\\x99 Ð\\x93Ð\\xa0Ð£Ð\\x9fÐ\\x9f\"',\n",
              " 'Tovarystvo z obmezhenoiu vidpovidalnistiu \"Zelinskyi Hrupp\"',\n",
              " 'Ð¢Ð¾Ð²Ð°Ñ\\x80Ð¸Ñ\\x81Ñ\\x82Ð²Ð¾ Ð· Ð¾Ð±Ð¼ÐµÐ¶ÐµÐ½Ð¾Ñ\\x8e Ð²Ñ\\x96Ð´Ð¿Ð¾Ð²Ñ\\x96Ð´Ð°Ð»Ñ\\x8cÐ½Ñ\\x96Ñ\\x81Ñ\\x82Ñ\\x8e \"Ð\\x97ÐµÐ»Ñ\\x96Ð½Ñ\\x81Ñ\\x8cÐºÐ¸Ð¹ Ð\\x93Ñ\\x80Ñ\\x83Ð¿Ð¿\"',\n",
              " 'Limited Liability Company \"Zelinsky Group\"',\n",
              " 'Ð\\x9eÐ±Ñ\\x89ÐµÑ\\x81Ñ\\x82Ð²Ð¾ Ñ\\x81 Ð¾Ð³Ñ\\x80Ð°Ð½Ð¸Ñ\\x87ÐµÐ½Ð½Ð¾Ð¹ Ð¾Ñ\\x82Ð²ÐµÑ\\x82Ñ\\x81Ñ\\x82Ð²ÐµÐ½Ð½Ð¾Ñ\\x81Ñ\\x82Ñ\\x8cÑ\\x8e \"Ð\\x97ÐµÐ»Ð¸Ð½Ñ\\x81ÐºÐ¸Ð¹ Ð\\x93Ñ\\x80Ñ\\x83Ð¿Ð¿\"',\n",
              " 'SANAVBARI NIKITENKO',\n",
              " 'Ð\\x9eÑ\\x82ÐºÑ\\x80Ñ\\x8bÑ\\x82Ð¾Ðµ Ð°ÐºÑ\\x86Ð¸Ð¾Ð½ÐµÑ\\x80Ð½Ð¾Ðµ Ð¾Ð±Ñ\\x89ÐµÑ\\x81Ñ\\x82Ð²Ð¾ \"Ð\\xadÐ»ÐµÐºÑ\\x82Ñ\\x80Ð¾Ñ\\x81Ñ\\x82Ð°Ð»Ñ\\x8cÑ\\x81ÐºÐ¸Ð¹ Ñ\\x85Ð¸Ð¼Ð¸ÐºÐ¾-Ð¼ÐµÑ\\x85Ð°Ð½Ð¸Ñ\\x87ÐµÑ\\x81ÐºÐ¸Ð¹ Ð·Ð°Ð²Ð¾Ð´ Ð¸Ð¼ÐµÐ½Ð¸ Ð\\x9d.Ð\\x94.Ð\\x97ÐµÐ»Ð¸Ð½Ñ\\x81ÐºÐ¾Ð³Ð¾\"',\n",
              " 'Open Joint-Stock Company \"Elektrostal ChemicalMechanical Plant named after N.D.Zelinsky\"',\n",
              " 'Ð\\x9eÑ\\x82ÐºÑ\\x80Ñ\\x8bÑ\\x82Ð¾Ðµ Ð°ÐºÑ\\x86Ð¸Ð¾Ð½ÐµÑ\\x80Ð½Ð¾Ðµ Ð¾Ð±Ñ\\x89ÐµÑ\\x81Ñ\\x82Ð²Ð¾ \"Ð\\xadÐ»ÐµÐºÑ\\x82Ñ\\x80Ð¾Ñ\\x81Ñ\\x82Ð°Ð»Ñ\\x8cÑ\\x81ÐºÐ¸Ð¹ Ñ\\x85Ð¸Ð¼Ð¸ÐºÐ¾Ð¼ÐµÑ\\x85Ð°Ð½Ð¸Ñ\\x87ÐµÑ\\x81ÐºÐ¸Ð¹ Ð·Ð°Ð²Ð¾Ð´ Ð¸Ð¼ÐµÐ½Ð¸ Ð\\x9d.Ð\\x94.Ð\\x97ÐµÐ»Ð¸Ð½Ñ\\x81ÐºÐ¾Ð³Ð¾\"',\n",
              " 'Ð\\x92Ñ\\x96Ð´ÐºÑ\\x80Ð¸Ñ\\x82Ðµ Ð°ÐºÑ\\x86Ñ\\x96Ð¾Ð½ÐµÑ\\x80Ð½Ðµ Ñ\\x82Ð¾Ð²Ð°Ñ\\x80Ð¸Ñ\\x81Ñ\\x82Ð²Ð¾ \"Ð\\x95Ð»ÐµÐºÑ\\x82Ñ\\x80Ð¾Ñ\\x81Ñ\\x82Ð°Ð»Ñ\\x8cÑ\\x81Ñ\\x8cÐºÐ¸Ð¹ Ñ\\x85Ñ\\x96Ð¼Ñ\\x96ÐºÐ¾Ð¼ÐµÑ\\x85Ð°Ð½Ñ\\x96Ñ\\x87Ð½Ð¸Ð¹ Ð·Ð°Ð²Ð¾Ð´ Ñ\\x96Ð¼ÐµÐ½Ñ\\x96 Ð\\x9c.Ð\\x94.Ð\\x97ÐµÐ»Ñ\\x96Ð½Ñ\\x81Ñ\\x8cÐºÐ¾Ð³Ð¾\"',\n",
              " 'Ð\\x9eÐ\\x90Ð\\x9e \"Ð\\xadÐ\\x9bÐ\\x95Ð\\x9aÐ¢Ð\\xa0Ð\\x9eÐ¡Ð¢Ð\\x90Ð\\x9bÐ¬Ð¡Ð\\x9aÐ\\x98Ð\\x99 Ð¥Ð\\x98Ð\\x9cÐ\\x98Ð\\x9aÐ\\x9e-Ð\\x9cÐ\\x95Ð¥Ð\\x90Ð\\x9dÐ\\x98Ð§Ð\\x95Ð¡Ð\\x9aÐ\\x98Ð\\x99 Ð\\x97Ð\\x90Ð\\x92Ð\\x9eÐ\\x94 Ð\\x98Ð\\x9cÐ\\x95Ð\\x9dÐ\\x98 Ð\\x9d.Ð\\x94. Ð\\x97Ð\\x95Ð\\x9bÐ\\x98Ð\\x9dÐ¡Ð\\x9aÐ\\x9eÐ\\x93Ð\\x9e\"',\n",
              " 'Vidkryte aktsionerne tovarystvo \"Elektrostalskyi khimikomekhanichnyi zavod imeni M.D.Zelinskoho\"',\n",
              " 'Ð\\x9eÐ¢Ð\\x9aÐ\\xa0Ð«Ð¢Ð\\x9eÐ\\x95 Ð\\x90Ð\\x9aÐ¦Ð\\x98Ð\\x9eÐ\\x9dÐ\\x95Ð\\xa0Ð\\x9dÐ\\x9eÐ\\x95 Ð\\x9eÐ\\x91Ð©Ð\\x95Ð¡Ð¢Ð\\x92Ð\\x9e \"Ð\\xadÐ\\x9bÐ\\x95Ð\\x9aÐ¢Ð\\xa0Ð\\x9eÐ¡Ð¢Ð\\x90Ð\\x9bÐ¬Ð¡Ð\\x9aÐ\\x98Ð\\x99 Ð¥Ð\\x98Ð\\x9cÐ\\x98Ð\\x9aÐ\\x9e-Ð\\x9cÐ\\x95Ð¥Ð\\x90Ð\\x9dÐ\\x98Ð§Ð\\x95Ð¡Ð\\x9aÐ\\x98Ð\\x99 Ð\\x97Ð\\x90Ð\\x92Ð\\x9eÐ\\x94\"',\n",
              " 'Ð\\x90Ð\\x9cÐ\\x98Ð\\x9dÐ\\x90Ð¢ Ð\\xa0Ð\\x90Ð\\x9cÐ\\x97Ð\\x90Ð\\x9dÐ\\x9eÐ\\x92Ð\\x9dÐ\\x90 Ð\\x90Ð¥Ð\\x9cÐ\\x90Ð\\x94Ð\\x9eÐ\\x92Ð\\x90',\n",
              " 'Private Enterprise \"Magistar-SG\"']"
            ]
          },
          "execution_count": 37,
          "metadata": {},
          "output_type": "execute_result"
        }
      ],
      "source": [
        "lines[:15]"
      ]
    },
    {
      "cell_type": "code",
      "execution_count": 44,
      "metadata": {},
      "outputs": [
        {
          "data": {
            "text/plain": [
              "b''"
            ]
          },
          "execution_count": 44,
          "metadata": {},
          "output_type": "execute_result"
        }
      ],
      "source": [
        "line.encode('cp1251')"
      ]
    },
    {
      "cell_type": "code",
      "execution_count": 43,
      "metadata": {},
      "outputs": [
        {
          "ename": "TypeError",
          "evalue": "encode() argument 'encoding' must be str, not None",
          "output_type": "error",
          "traceback": [
            "\u001b[1;31m---------------------------------------------------------------------------\u001b[0m",
            "\u001b[1;31mTypeError\u001b[0m                                 Traceback (most recent call last)",
            "Cell \u001b[1;32mIn[43], line 7\u001b[0m\n\u001b[0;32m      4\u001b[0m bs \u001b[38;5;241m=\u001b[39m line\u001b[38;5;241m.\u001b[39mencode(\u001b[38;5;124m\"\u001b[39m\u001b[38;5;124mutf-8\u001b[39m\u001b[38;5;124m\"\u001b[39m)\n\u001b[0;32m      5\u001b[0m encoding \u001b[38;5;241m=\u001b[39m chardet\u001b[38;5;241m.\u001b[39mdetect(bs)[\u001b[38;5;124m\"\u001b[39m\u001b[38;5;124mencoding\u001b[39m\u001b[38;5;124m\"\u001b[39m]\n\u001b[1;32m----> 7\u001b[0m \u001b[38;5;28mstr\u001b[39m \u001b[38;5;241m=\u001b[39m \u001b[43ms\u001b[49m\u001b[38;5;241;43m.\u001b[39;49m\u001b[43mencode\u001b[49m\u001b[43m(\u001b[49m\u001b[43mencoding\u001b[49m\u001b[43m)\u001b[49m\u001b[38;5;241m.\u001b[39mdecode(\u001b[38;5;124m\"\u001b[39m\u001b[38;5;124mutf-8\u001b[39m\u001b[38;5;124m\"\u001b[39m)\n\u001b[0;32m      9\u001b[0m \u001b[38;5;28mprint\u001b[39m(\u001b[38;5;28mstr\u001b[39m)\n",
            "\u001b[1;31mTypeError\u001b[0m: encode() argument 'encoding' must be str, not None"
          ]
        }
      ],
      "source": [
        "import chardet\n",
        "\n",
        "s = line\n",
        "bs = line.encode(\"utf-8\")\n",
        "encoding = chardet.detect(bs)[\"encoding\"]\n",
        "\n",
        "str = s.encode(encoding).decode(\"utf-8\")\n",
        "\n",
        "print(str)"
      ]
    },
    {
      "cell_type": "code",
      "execution_count": 41,
      "metadata": {},
      "outputs": [
        {
          "ename": "TypeError",
          "evalue": "Expected object of type bytes or bytearray, got: <class 'str'>",
          "output_type": "error",
          "traceback": [
            "\u001b[1;31m---------------------------------------------------------------------------\u001b[0m",
            "\u001b[1;31mTypeError\u001b[0m                                 Traceback (most recent call last)",
            "Cell \u001b[1;32mIn[41], line 1\u001b[0m\n\u001b[1;32m----> 1\u001b[0m \u001b[43mchardet\u001b[49m\u001b[38;5;241;43m.\u001b[39;49m\u001b[43mdetect\u001b[49m\u001b[43m(\u001b[49m\u001b[43mline\u001b[49m\u001b[43m)\u001b[49m[\u001b[38;5;124m\"\u001b[39m\u001b[38;5;124mencoding\u001b[39m\u001b[38;5;124m\"\u001b[39m]\n",
            "File \u001b[1;32mc:\\Users\\fratric\\AppData\\Local\\anaconda3\\envs\\llm_env\\Lib\\site-packages\\chardet\\__init__.py:44\u001b[0m, in \u001b[0;36mdetect\u001b[1;34m(byte_str, should_rename_legacy)\u001b[0m\n\u001b[0;32m     42\u001b[0m \u001b[38;5;28;01mif\u001b[39;00m \u001b[38;5;129;01mnot\u001b[39;00m \u001b[38;5;28misinstance\u001b[39m(byte_str, \u001b[38;5;28mbytearray\u001b[39m):\n\u001b[0;32m     43\u001b[0m     \u001b[38;5;28;01mif\u001b[39;00m \u001b[38;5;129;01mnot\u001b[39;00m \u001b[38;5;28misinstance\u001b[39m(byte_str, \u001b[38;5;28mbytes\u001b[39m):\n\u001b[1;32m---> 44\u001b[0m         \u001b[38;5;28;01mraise\u001b[39;00m \u001b[38;5;167;01mTypeError\u001b[39;00m(\n\u001b[0;32m     45\u001b[0m             \u001b[38;5;124mf\u001b[39m\u001b[38;5;124m\"\u001b[39m\u001b[38;5;124mExpected object of type bytes or bytearray, got: \u001b[39m\u001b[38;5;132;01m{\u001b[39;00m\u001b[38;5;28mtype\u001b[39m(byte_str)\u001b[38;5;132;01m}\u001b[39;00m\u001b[38;5;124m\"\u001b[39m\n\u001b[0;32m     46\u001b[0m         )\n\u001b[0;32m     47\u001b[0m     byte_str \u001b[38;5;241m=\u001b[39m \u001b[38;5;28mbytearray\u001b[39m(byte_str)\n\u001b[0;32m     48\u001b[0m detector \u001b[38;5;241m=\u001b[39m UniversalDetector(should_rename_legacy\u001b[38;5;241m=\u001b[39mshould_rename_legacy)\n",
            "\u001b[1;31mTypeError\u001b[0m: Expected object of type bytes or bytearray, got: <class 'str'>"
          ]
        }
      ],
      "source": [
        "chardet.detect(line)[\"encoding\"]"
      ]
    },
    {
      "cell_type": "code",
      "execution_count": 33,
      "metadata": {},
      "outputs": [
        {
          "data": {
            "text/plain": [
              "'Ð\\x9eÐ\\x9eÐ\\x9e \"Ð\\x97Ð\\x95Ð\\x9bÐ\\x98Ð\\x9dÐ¡Ð\\x9aÐ\\x98Ð\\x99 Ð\\x93Ð\\xa0Ð£Ð\\x9fÐ\\x9f\"'"
            ]
          },
          "execution_count": 33,
          "metadata": {},
          "output_type": "execute_result"
        }
      ],
      "source": [
        "import codecs\n",
        "\n",
        "line"
      ]
    },
    {
      "cell_type": "code",
      "execution_count": null,
      "metadata": {},
      "outputs": [
        {
          "ename": "AttributeError",
          "evalue": "'str' object has no attribute 'decode'",
          "output_type": "error",
          "traceback": [
            "\u001b[1;31m---------------------------------------------------------------------------\u001b[0m",
            "\u001b[1;31mAttributeError\u001b[0m                            Traceback (most recent call last)",
            "Cell \u001b[1;32mIn[28], line 5\u001b[0m\n\u001b[0;32m      1\u001b[0m \u001b[38;5;28;01mimport\u001b[39;00m\u001b[38;5;250m \u001b[39m\u001b[38;5;21;01mstring\u001b[39;00m\n\u001b[1;32m----> 5\u001b[0m \u001b[43mline\u001b[49m\u001b[38;5;241;43m.\u001b[39;49m\u001b[43mdecode\u001b[49m(\u001b[38;5;124m'\u001b[39m\u001b[38;5;124mutf-8\u001b[39m\u001b[38;5;124m'\u001b[39m)\n",
            "\u001b[1;31mAttributeError\u001b[0m: 'str' object has no attribute 'decode'"
          ]
        }
      ],
      "source": [
        "\n",
        "\n",
        "\n",
        "\n",
        "line.decode('utf-8')"
      ]
    },
    {
      "cell_type": "markdown",
      "metadata": {
        "id": "iyjI5kPavGiO"
      },
      "source": [
        "### Identity matching software"
      ]
    },
    {
      "cell_type": "code",
      "execution_count": null,
      "metadata": {
        "colab": {
          "base_uri": "https://localhost:8080/"
        },
        "id": "gVSOq3h9HAbw",
        "outputId": "db5b25d2-6810-44c9-b779-e67b65acc263"
      },
      "outputs": [
        {
          "name": "stdout",
          "output_type": "stream",
          "text": [
            "Requirement already satisfied: fuzzywuzzy in /usr/local/lib/python3.11/dist-packages (0.18.0)\n"
          ]
        }
      ],
      "source": [
        "!pip install fuzzywuzzy"
      ]
    },
    {
      "cell_type": "code",
      "execution_count": null,
      "metadata": {
        "id": "NW4jJcE_HAbw"
      },
      "outputs": [],
      "source": [
        "from fuzzywuzzy import fuzz\n",
        "\n",
        "def check_name(name, risk_treshold = 85):\n",
        "  suspected_entities = []\n",
        "\n",
        "  if name in lines:\n",
        "    return 1.0\n",
        "  else:\n",
        "    levenstein_ratio = partial_ratio = token_sort_ratio = 0.0\n",
        "    for line in lines:\n",
        "\n",
        "      levenstein_ratio = fuzz.ratio(name, line)\n",
        "      if levenstein_ratio > risk_treshold:\n",
        "        suspected_entities.append((line,levenstein_ratio,'lev-ratio'))\n",
        "\n",
        "      token_sort_ratio = fuzz.token_sort_ratio(name, line, full_process=False)\n",
        "      if token_sort_ratio > risk_treshold:\n",
        "        suspected_entities.append((line,token_sort_ratio,'tok-ratio'))\n",
        "\n",
        "    return suspected_entities"
      ]
    },
    {
      "cell_type": "code",
      "execution_count": null,
      "metadata": {
        "colab": {
          "base_uri": "https://localhost:8080/"
        },
        "id": "Ny30-WjWHAbw",
        "outputId": "cb6132c6-126c-445d-ad52-8e3c594f48a3"
      },
      "outputs": [
        {
          "data": {
            "text/plain": [
              "[('Jong Man Kim', 87, 'tok-ratio'),\n",
              " ('Kim Jong Man', 87, 'lev-ratio'),\n",
              " ('Kim Jong Man', 87, 'tok-ratio'),\n",
              " ('Kim Jong Eun', 87, 'lev-ratio'),\n",
              " ('Kim Džong Un', 87, 'lev-ratio'),\n",
              " ('Kim Džong Un', 87, 'tok-ratio'),\n",
              " ('Kim Dzong Un', 87, 'lev-ratio'),\n",
              " ('Kim Dzong Un', 87, 'tok-ratio'),\n",
              " ('Kim Yong Un', 91, 'lev-ratio'),\n",
              " ('Jong Un Kim', 100, 'tok-ratio'),\n",
              " ('Kim Jong Gun', 87, 'lev-ratio'),\n",
              " ('Kim Un Jon', 95, 'tok-ratio'),\n",
              " ('Kim Un Jong', 100, 'tok-ratio'),\n",
              " ('Kim Jung Un', 91, 'lev-ratio'),\n",
              " ('Kim Jung Un', 91, 'tok-ratio'),\n",
              " ('Un Jong Kim', 100, 'tok-ratio'),\n",
              " ('Un Gyong Kim', 87, 'tok-ratio')]"
            ]
          },
          "execution_count": 29,
          "metadata": {},
          "output_type": "execute_result"
        }
      ],
      "source": [
        "#here, enter name of your fauvorite terrorist\n",
        "check_name('Kim Jong Un')"
      ]
    },
    {
      "cell_type": "code",
      "execution_count": null,
      "metadata": {
        "colab": {
          "base_uri": "https://localhost:8080/"
        },
        "id": "WoHc2XKqHAbx",
        "outputId": "05cb66ab-df26-48e6-dbe5-10aeb736d501"
      },
      "outputs": [
        {
          "data": {
            "text/plain": [
              "[]"
            ]
          },
          "execution_count": 30,
          "metadata": {},
          "output_type": "execute_result"
        }
      ],
      "source": [
        "#here, enter name of someone who is probably not a terrorist\n",
        "check_name('Peter Fratric')"
      ]
    },
    {
      "cell_type": "markdown",
      "metadata": {
        "id": "78PYJrHgu9__"
      },
      "source": [
        "### Setting the decision threshold"
      ]
    },
    {
      "cell_type": "code",
      "execution_count": null,
      "metadata": {
        "colab": {
          "base_uri": "https://localhost:8080/"
        },
        "id": "nZIysqq0HAbx",
        "outputId": "bb75030f-9e1c-4ce3-a082-f6052fbd2f2e"
      },
      "outputs": [
        {
          "data": {
            "text/plain": [
              "[('Peter Frick', 83, 'lev-ratio'),\n",
              " ('Peter Frick', 83, 'tok-ratio'),\n",
              " ('Peter Frølich', 77, 'lev-ratio'),\n",
              " ('Peter Frølich', 77, 'tok-ratio'),\n",
              " ('Frantisek Peter', 79, 'tok-ratio'),\n",
              " ('František Peter', 79, 'tok-ratio'),\n",
              " ('Peter Friedrich', 79, 'lev-ratio'),\n",
              " ('Peter Friedrich', 79, 'tok-ratio'),\n",
              " ('Friedrich, Peter', 76, 'tok-ratio'),\n",
              " ('Peter Frolich', 77, 'lev-ratio'),\n",
              " ('Peter Frolich', 77, 'tok-ratio'),\n",
              " ('Peter Forster', 77, 'lev-ratio'),\n",
              " ('Peter Forster', 77, 'tok-ratio'),\n",
              " ('Peter Ferraro', 77, 'lev-ratio'),\n",
              " ('Peter Ferraro', 77, 'tok-ratio'),\n",
              " ('Peter Francis', 77, 'lev-ratio'),\n",
              " ('Peter Francis', 77, 'tok-ratio'),\n",
              " ('Peter Ferrara', 77, 'lev-ratio'),\n",
              " ('Peter Ferrara', 77, 'tok-ratio'),\n",
              " ('Peter Fitzpatrick', 80, 'lev-ratio'),\n",
              " ('Peter Fitzpatrick', 80, 'tok-ratio'),\n",
              " ('Fitzpatrick, Peter', 77, 'tok-ratio'),\n",
              " ('Peter Gration', 77, 'lev-ratio'),\n",
              " ('Peter Gration', 77, 'tok-ratio')]"
            ]
          },
          "execution_count": 31,
          "metadata": {},
          "output_type": "execute_result"
        }
      ],
      "source": [
        "#decrease the risk threshold, and see you get more matches\n",
        "check_name('Peter Fratric', risk_treshold = 75)"
      ]
    },
    {
      "cell_type": "markdown",
      "metadata": {
        "id": "Xk9yF8WWjuLZ"
      },
      "source": [
        "Question to think about: How would you set the intervention treshold? What data would you use? Explain steps to be taken."
      ]
    },
    {
      "cell_type": "markdown",
      "metadata": {
        "id": "PTD3tVpJuN_o"
      },
      "source": [
        "### Limitations and challanges\n",
        "\n",
        "Let us think about following questions:\n",
        " * What sort of data can we get to improve our entity matching?\n",
        " * Are there some issues with frequency of updates?\n",
        " * Can sanctioned entities benefit still get their hands on assets by obscuring their involvement?"
      ]
    },
    {
      "cell_type": "markdown",
      "metadata": {},
      "source": [
        "## Example 2: "
      ]
    },
    {
      "cell_type": "markdown",
      "metadata": {
        "id": "OWYgS17q6j2Q"
      },
      "source": [
        "\n",
        "\n",
        "\n",
        "\n",
        "TODO: sectorial sanctions\n",
        "sector membership classification (fuzzy by default)\n",
        "similar as nuclear whitelisting\n",
        "dataset verification on a sample\n",
        "\n",
        "suptech - maybe my future research\n",
        "\n",
        "\n"
      ]
    }
  ],
  "metadata": {
    "colab": {
      "provenance": [],
      "toc_visible": true
    },
    "kernelspec": {
      "display_name": "llm_env",
      "language": "python",
      "name": "python3"
    },
    "language_info": {
      "codemirror_mode": {
        "name": "ipython",
        "version": 3
      },
      "file_extension": ".py",
      "mimetype": "text/x-python",
      "name": "python",
      "nbconvert_exporter": "python",
      "pygments_lexer": "ipython3",
      "version": "3.12.8"
    }
  },
  "nbformat": 4,
  "nbformat_minor": 0
}
